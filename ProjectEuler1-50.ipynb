{
 "cells": [
  {
   "cell_type": "code",
   "execution_count": 36,
   "metadata": {},
   "outputs": [
    {
     "name": "stdout",
     "output_type": "stream",
     "text": [
      "233168\n"
     ]
    }
   ],
   "source": [
    "sum = 0\n",
    "for i in range (1,1000):\n",
    "    if(i%3==0): sum += i\n",
    "    elif(i%5==0): sum += i\n",
    "print(sum)"
   ]
  },
  {
   "cell_type": "code",
   "execution_count": 37,
   "metadata": {},
   "outputs": [
    {
     "data": {
      "text/plain": [
       "4613732"
      ]
     },
     "execution_count": 37,
     "metadata": {},
     "output_type": "execute_result"
    }
   ],
   "source": [
    "fibo = [1,2]\n",
    "first = 1\n",
    "second = 2\n",
    "sum = 0\n",
    "while (second < 4e6):\n",
    "    prevsecond = second\n",
    "    second = second + first\n",
    "    first = prevsecond\n",
    "    fibo.append(second)\n",
    "for i in range(len(fibo)):\n",
    "    if (i%3==1): sum += fibo[i]\n",
    "sum"
   ]
  },
  {
   "cell_type": "code",
   "execution_count": 15,
   "metadata": {},
   "outputs": [
    {
     "data": {
      "text/plain": [
       "([1, 71, 839, 1471, 6857, 59569, 104441, 486847],\n",
       " [True, True, True, True, True, False, False, False])"
      ]
     },
     "execution_count": 15,
     "metadata": {},
     "output_type": "execute_result"
    }
   ],
   "source": [
    "import math\n",
    "divisors = [i for i in range(1,int(math.sqrt(600851475143))) if (600851475143%i==0)]\n",
    "def isprimelazy(n):\n",
    "    for i in range(2,int(math.sqrt(n))):\n",
    "        if (n%i==0): return False\n",
    "    return True\n",
    "primeDivisors = [isprimelazy(divisors[i]) for i in range(len(divisors))]\n",
    "divisors, primeDivisors\n"
   ]
  },
  {
   "cell_type": "markdown",
   "metadata": {},
   "source": []
  },
  {
   "cell_type": "code",
   "execution_count": 4,
   "metadata": {},
   "outputs": [
    {
     "data": {
      "text/plain": [
       "600851475143.0"
      ]
     },
     "execution_count": 4,
     "metadata": {},
     "output_type": "execute_result"
    }
   ],
   "source": [
    "import math\n",
    "def largest_prime_factor(num: int) -> int:\n",
    "  \"\"\"Returns the largest prime factor of a given number.\"\"\"\n",
    "  return max([num/i for i in range(1, int(math.sqrt(num))) if num % i == 0])\n",
    "largest_prime_factor(600851475143)"
   ]
  }
 ],
 "metadata": {
  "kernelspec": {
   "display_name": "Python 3.10.6 64-bit",
   "language": "python",
   "name": "python3"
  },
  "language_info": {
   "codemirror_mode": {
    "name": "ipython",
    "version": 3
   },
   "file_extension": ".py",
   "mimetype": "text/x-python",
   "name": "python",
   "nbconvert_exporter": "python",
   "pygments_lexer": "ipython3",
   "version": "3.10.6"
  },
  "orig_nbformat": 4,
  "vscode": {
   "interpreter": {
    "hash": "3ac5f3aa52ff0dada86bcbebe975b28021fc1613a533e99386a9aa5caf5ade23"
   }
  }
 },
 "nbformat": 4,
 "nbformat_minor": 2
}
