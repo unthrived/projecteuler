{
 "cells": [
  {
   "cell_type": "code",
   "execution_count": 36,
   "metadata": {},
   "outputs": [
    {
     "name": "stdout",
     "output_type": "stream",
     "text": [
      "233168\n"
     ]
    }
   ],
   "source": [
    "#1 Multiples of 3 or 5\n",
    "\n",
    "sum = 0\n",
    "for i in range (1,1000):\n",
    "    if(i%3==0): sum += i\n",
    "    elif(i%5==0): sum += i\n",
    "print(sum)"
   ]
  },
  {
   "cell_type": "code",
   "execution_count": 37,
   "metadata": {},
   "outputs": [
    {
     "data": {
      "text/plain": [
       "4613732"
      ]
     },
     "execution_count": 37,
     "metadata": {},
     "output_type": "execute_result"
    }
   ],
   "source": [
    "#2 Even Fibonacci numbers\n",
    "\n",
    "fibo = [1,2]\n",
    "first = 1\n",
    "second = 2\n",
    "sum = 0\n",
    "while (second < 4e6):\n",
    "    prevsecond = second\n",
    "    second = second + first\n",
    "    first = prevsecond\n",
    "    fibo.append(second)\n",
    "for i in range(len(fibo)):\n",
    "    if (i%3==1): sum += fibo[i]\n",
    "sum"
   ]
  },
  {
   "cell_type": "code",
   "execution_count": 20,
   "metadata": {},
   "outputs": [
    {
     "data": {
      "text/plain": [
       "6857"
      ]
     },
     "execution_count": 20,
     "metadata": {},
     "output_type": "execute_result"
    }
   ],
   "source": [
    "#3 Largest prime factor\n",
    "\n",
    "import math\n",
    "def largestPrimeDivisor(n):\n",
    "    m=n\n",
    "    for i in range(2,m+1):\n",
    "        if (n==i): return i\n",
    "        while (n%i==0):\n",
    "            n=n/i\n",
    "            \n",
    "largestPrimeDivisor(600851475143)"
   ]
  },
  {
   "cell_type": "code",
   "execution_count": 34,
   "metadata": {},
   "outputs": [
    {
     "name": "stdout",
     "output_type": "stream",
     "text": [
      "10000 998001\n",
      "906609\n"
     ]
    }
   ],
   "source": [
    "#4 Largest palindrome product\n",
    "print(100*100, 999*999)\n",
    "\n",
    "max = 0\n",
    "for i in range (900,1000):\n",
    "    for j in range (i,1000):\n",
    "        k=i*j\n",
    "        if(str(k)==str(k)[::-1]):\n",
    "            if (k>max): max=k\n",
    "print(max)            "
   ]
  },
  {
   "cell_type": "code",
   "execution_count": 4,
   "metadata": {},
   "outputs": [
    {
     "name": "stdout",
     "output_type": "stream",
     "text": [
      "4\n",
      "5\n",
      "6\n",
      "7\n",
      "8\n",
      "9\n",
      "10\n",
      "11\n",
      "12\n",
      "13\n",
      "14\n",
      "15\n",
      "16\n",
      "17\n",
      "18\n",
      "19\n",
      "20\n"
     ]
    },
    {
     "ename": "IndexError",
     "evalue": "list index out of range",
     "output_type": "error",
     "traceback": [
      "\u001b[1;31m---------------------------------------------------------------------------\u001b[0m",
      "\u001b[1;31mIndexError\u001b[0m                                Traceback (most recent call last)",
      "\u001b[1;32mc:\\Users\\Jun\\Documents\\GitHub\\ProjectEuler\\ProjectEuler1-50.ipynb Cell 5\u001b[0m in \u001b[0;36m<cell line: 5>\u001b[1;34m()\u001b[0m\n\u001b[0;32m      <a href='vscode-notebook-cell:/c%3A/Users/Jun/Documents/GitHub/ProjectEuler/ProjectEuler1-50.ipynb#W5sZmlsZQ%3D%3D?line=3'>4</a>\u001b[0m primes \u001b[39m=\u001b[39m []\n\u001b[0;32m      <a href='vscode-notebook-cell:/c%3A/Users/Jun/Documents/GitHub/ProjectEuler/ProjectEuler1-50.ipynb#W5sZmlsZQ%3D%3D?line=4'>5</a>\u001b[0m \u001b[39mfor\u001b[39;00m primes \u001b[39min\u001b[39;00m div:\n\u001b[1;32m----> <a href='vscode-notebook-cell:/c%3A/Users/Jun/Documents/GitHub/ProjectEuler/ProjectEuler1-50.ipynb#W5sZmlsZQ%3D%3D?line=5'>6</a>\u001b[0m     \u001b[39mprint\u001b[39m(div[primes])\n",
      "\u001b[1;31mIndexError\u001b[0m: list index out of range"
     ]
    }
   ],
   "source": [
    "#5 Smallest multiple\n",
    "import math\n",
    "div = [pr111 for pr111 in range(2,21)]\n",
    "primes = []\n",
    "for primes123 in div:\n",
    "    print(div[primes123])"
   ]
  }
 ],
 "metadata": {
  "kernelspec": {
   "display_name": "Python 3.10.6 64-bit",
   "language": "python",
   "name": "python3"
  },
  "language_info": {
   "codemirror_mode": {
    "name": "ipython",
    "version": 3
   },
   "file_extension": ".py",
   "mimetype": "text/x-python",
   "name": "python",
   "nbconvert_exporter": "python",
   "pygments_lexer": "ipython3",
   "version": "3.10.6"
  },
  "orig_nbformat": 4,
  "vscode": {
   "interpreter": {
    "hash": "3ac5f3aa52ff0dada86bcbebe975b28021fc1613a533e99386a9aa5caf5ade23"
   }
  }
 },
 "nbformat": 4,
 "nbformat_minor": 2
}
